{
 "cells": [
  {
   "cell_type": "markdown",
   "id": "77626231",
   "metadata": {},
   "source": [
    "## About dataset\n",
    "It is taken from Kaggle. It is a set of SMS tagged messages that have been collected for SMS Spam research. It contains messages in English and are tagged as ham (legitimate) or spam.\n",
    "\n",
    "Dataset: https://www.kaggle.com/datasets/uciml/sms-spam-collection-dataset"
   ]
  },
  {
   "cell_type": "markdown",
   "id": "b97e5286",
   "metadata": {},
   "source": [
    "## Problem statement\n",
    "To classify emails as spam or ham (legitimate, not spam)"
   ]
  },
  {
   "cell_type": "markdown",
   "id": "3d21f7f1",
   "metadata": {},
   "source": [
    "## Import necessary libraries"
   ]
  },
  {
   "cell_type": "code",
   "execution_count": 1,
   "id": "4e0dcc1a",
   "metadata": {},
   "outputs": [],
   "source": [
    "import pandas as pd\n",
    "import numpy as np\n",
    "import matplotlib.pyplot as plt\n",
    "\n",
    "import warnings\n",
    "warnings.filterwarnings('ignore')"
   ]
  },
  {
   "cell_type": "markdown",
   "id": "4f3d79cd",
   "metadata": {},
   "source": [
    "## Import data"
   ]
  },
  {
   "cell_type": "code",
   "execution_count": 2,
   "id": "cce094df",
   "metadata": {},
   "outputs": [
    {
     "data": {
      "text/html": [
       "<div>\n",
       "<style scoped>\n",
       "    .dataframe tbody tr th:only-of-type {\n",
       "        vertical-align: middle;\n",
       "    }\n",
       "\n",
       "    .dataframe tbody tr th {\n",
       "        vertical-align: top;\n",
       "    }\n",
       "\n",
       "    .dataframe thead th {\n",
       "        text-align: right;\n",
       "    }\n",
       "</style>\n",
       "<table border=\"1\" class=\"dataframe\">\n",
       "  <thead>\n",
       "    <tr style=\"text-align: right;\">\n",
       "      <th></th>\n",
       "      <th>v1</th>\n",
       "      <th>v2</th>\n",
       "      <th>Unnamed: 2</th>\n",
       "      <th>Unnamed: 3</th>\n",
       "      <th>Unnamed: 4</th>\n",
       "    </tr>\n",
       "  </thead>\n",
       "  <tbody>\n",
       "    <tr>\n",
       "      <th>0</th>\n",
       "      <td>ham</td>\n",
       "      <td>Go until jurong point, crazy.. Available only ...</td>\n",
       "      <td>NaN</td>\n",
       "      <td>NaN</td>\n",
       "      <td>NaN</td>\n",
       "    </tr>\n",
       "    <tr>\n",
       "      <th>1</th>\n",
       "      <td>ham</td>\n",
       "      <td>Ok lar... Joking wif u oni...</td>\n",
       "      <td>NaN</td>\n",
       "      <td>NaN</td>\n",
       "      <td>NaN</td>\n",
       "    </tr>\n",
       "    <tr>\n",
       "      <th>2</th>\n",
       "      <td>spam</td>\n",
       "      <td>Free entry in 2 a wkly comp to win FA Cup fina...</td>\n",
       "      <td>NaN</td>\n",
       "      <td>NaN</td>\n",
       "      <td>NaN</td>\n",
       "    </tr>\n",
       "    <tr>\n",
       "      <th>3</th>\n",
       "      <td>ham</td>\n",
       "      <td>U dun say so early hor... U c already then say...</td>\n",
       "      <td>NaN</td>\n",
       "      <td>NaN</td>\n",
       "      <td>NaN</td>\n",
       "    </tr>\n",
       "    <tr>\n",
       "      <th>4</th>\n",
       "      <td>ham</td>\n",
       "      <td>Nah I don't think he goes to usf, he lives aro...</td>\n",
       "      <td>NaN</td>\n",
       "      <td>NaN</td>\n",
       "      <td>NaN</td>\n",
       "    </tr>\n",
       "  </tbody>\n",
       "</table>\n",
       "</div>"
      ],
      "text/plain": [
       "     v1                                                 v2 Unnamed: 2  \\\n",
       "0   ham  Go until jurong point, crazy.. Available only ...        NaN   \n",
       "1   ham                      Ok lar... Joking wif u oni...        NaN   \n",
       "2  spam  Free entry in 2 a wkly comp to win FA Cup fina...        NaN   \n",
       "3   ham  U dun say so early hor... U c already then say...        NaN   \n",
       "4   ham  Nah I don't think he goes to usf, he lives aro...        NaN   \n",
       "\n",
       "  Unnamed: 3 Unnamed: 4  \n",
       "0        NaN        NaN  \n",
       "1        NaN        NaN  \n",
       "2        NaN        NaN  \n",
       "3        NaN        NaN  \n",
       "4        NaN        NaN  "
      ]
     },
     "execution_count": 2,
     "metadata": {},
     "output_type": "execute_result"
    }
   ],
   "source": [
    "df = pd.read_csv('spam.csv', encoding='latin1')\n",
    "df.head()"
   ]
  },
  {
   "cell_type": "markdown",
   "id": "4395770e",
   "metadata": {},
   "source": [
    "#### Columns description\n",
    "Column v1 contains labels as spam or ham (legitimate) and v2 contains raw text of messages. Columns 'Unnamed: 2', 'Unnamed: 3', 'Unnamed: 4' contains (row-wise) continuation of some messages given in v2 column. I will join all these discontinued message texts and create a full message in v2 column in data preprocessing step."
   ]
  },
  {
   "cell_type": "markdown",
   "id": "8fa57a66",
   "metadata": {},
   "source": [
    "## Explore data "
   ]
  },
  {
   "cell_type": "code",
   "execution_count": 3,
   "id": "e1972c33",
   "metadata": {},
   "outputs": [
    {
     "data": {
      "text/plain": [
       "(5572, 5)"
      ]
     },
     "execution_count": 3,
     "metadata": {},
     "output_type": "execute_result"
    }
   ],
   "source": [
    "df.shape"
   ]
  },
  {
   "cell_type": "code",
   "execution_count": 4,
   "id": "743c3a15",
   "metadata": {},
   "outputs": [
    {
     "name": "stdout",
     "output_type": "stream",
     "text": [
      "<class 'pandas.core.frame.DataFrame'>\n",
      "RangeIndex: 5572 entries, 0 to 5571\n",
      "Data columns (total 5 columns):\n",
      " #   Column      Non-Null Count  Dtype \n",
      "---  ------      --------------  ----- \n",
      " 0   v1          5572 non-null   object\n",
      " 1   v2          5572 non-null   object\n",
      " 2   Unnamed: 2  50 non-null     object\n",
      " 3   Unnamed: 3  12 non-null     object\n",
      " 4   Unnamed: 4  6 non-null      object\n",
      "dtypes: object(5)\n",
      "memory usage: 217.8+ KB\n"
     ]
    }
   ],
   "source": [
    "df.info()"
   ]
  },
  {
   "cell_type": "code",
   "execution_count": 5,
   "id": "35260588",
   "metadata": {},
   "outputs": [
    {
     "data": {
      "text/plain": [
       "v1               0\n",
       "v2               0\n",
       "Unnamed: 2    5522\n",
       "Unnamed: 3    5560\n",
       "Unnamed: 4    5566\n",
       "dtype: int64"
      ]
     },
     "execution_count": 5,
     "metadata": {},
     "output_type": "execute_result"
    }
   ],
   "source": [
    "# Check for null values\n",
    "df.isnull().sum()"
   ]
  },
  {
   "cell_type": "code",
   "execution_count": 6,
   "id": "a9222c5f",
   "metadata": {},
   "outputs": [
    {
     "data": {
      "text/plain": [
       "403"
      ]
     },
     "execution_count": 6,
     "metadata": {},
     "output_type": "execute_result"
    }
   ],
   "source": [
    "# Check for duplicates\n",
    "df.duplicated().sum()"
   ]
  },
  {
   "cell_type": "markdown",
   "id": "45359b1c",
   "metadata": {},
   "source": [
    "## Observation\n",
    "* There are 5572 rows and 5 columns in the data.\n",
    "* All the columns are categorical.\n",
    "* There are some duplicates in the data. I will remove them in the data preprocessing step.\n",
    "* There are null values in last 3 columns. But as I mentioned earlier, these columns contains continuation of some messages of v2 column. When I will join these discontinued message texts by combining columns, I will drop these 3 columns since they will be rendered redundant."
   ]
  },
  {
   "cell_type": "markdown",
   "id": "eaf2e2b2",
   "metadata": {},
   "source": [
    "## Data preprocessing"
   ]
  },
  {
   "cell_type": "markdown",
   "id": "ecba20dc",
   "metadata": {},
   "source": [
    "* ### Combine 'Unnamed: 2', 'Unnamed: 3', 'Unnamed: 4' columns with v2 column\n",
    "\n",
    "I will combine each of these columns one by one into v2 column. I will use 'for loop' for this purpose. If the cell contains (discontinued) message text, loop will join it with v2 column using + operator and then will assign the cell zero value (just for acknowledgement). And, if the cell contains null value, it will again assign the cell zero value. Then I will check value_counts of the column to see whether the combining process has been done completely or not. If the value_counts gives all zeros, then the process is done successfully. I will then drop that column since it will no longer be needed.  "
   ]
  },
  {
   "cell_type": "code",
   "execution_count": 7,
   "id": "1d2501ba",
   "metadata": {},
   "outputs": [],
   "source": [
    "# Combine 'Unnamed: 2' with v2 column using for loop\n",
    "for i in range(df.shape[0]):\n",
    "    if df['Unnamed: 2'][i] != 'NaN':\n",
    "        df['v2'][i] = str(df['v2'][i]) + str(df['Unnamed: 2'][i])\n",
    "        df['Unnamed: 2'][i] = 0\n",
    "    else:\n",
    "        df['Unnamed: 2'][i] = 0"
   ]
  },
  {
   "cell_type": "code",
   "execution_count": 8,
   "id": "9cec8b17",
   "metadata": {},
   "outputs": [
    {
     "data": {
      "text/plain": [
       "0    5572\n",
       "Name: Unnamed: 2, dtype: int64"
      ]
     },
     "execution_count": 8,
     "metadata": {},
     "output_type": "execute_result"
    }
   ],
   "source": [
    "# Check value_counts\n",
    "df['Unnamed: 2'].value_counts()"
   ]
  },
  {
   "cell_type": "markdown",
   "id": "30c0a451",
   "metadata": {},
   "source": [
    "Columns 'Unnamed: 2' and 'v2' are joined successfully. Let's drop this column now."
   ]
  },
  {
   "cell_type": "code",
   "execution_count": 9,
   "id": "3aa810f6",
   "metadata": {},
   "outputs": [],
   "source": [
    "# Drop column 'Unnamed: 2'\n",
    "df.drop('Unnamed: 2', axis=1, inplace=True)"
   ]
  },
  {
   "cell_type": "markdown",
   "id": "33a2ee51",
   "metadata": {},
   "source": [
    "Follow the same process for other 2 columns, namely, 'Unnamed: 3' & 'Unnamed: 4'"
   ]
  },
  {
   "cell_type": "code",
   "execution_count": 10,
   "id": "b2c521df",
   "metadata": {},
   "outputs": [],
   "source": [
    "# Combine 'Unnamed: 3' with v2 column\n",
    "for i in range(df.shape[0]):\n",
    "    if df['Unnamed: 3'][i] != 'NaN':\n",
    "        df['v2'][i] = str(df['v2'][i]) + str(df['Unnamed: 3'][i])\n",
    "        df['Unnamed: 3'][i] = 0\n",
    "    else:\n",
    "        df['Unnamed: 3'][i] = 0\n",
    "        \n",
    "# Combine 'Unnamed: 4' with v2 column\n",
    "for i in range(df.shape[0]):\n",
    "    if df['Unnamed: 4'][i] != 'NaN':\n",
    "        df['v2'][i] = str(df['v2'][i]) + str(df['Unnamed: 4'][i])\n",
    "        df['Unnamed: 4'][i] = 0\n",
    "    else:\n",
    "        df['Unnamed: 4'][i] = 0"
   ]
  },
  {
   "cell_type": "code",
   "execution_count": 11,
   "id": "abd1f602",
   "metadata": {},
   "outputs": [
    {
     "name": "stdout",
     "output_type": "stream",
     "text": [
      "0    5572\n",
      "Name: Unnamed: 3, dtype: int64\n",
      "0    5572\n",
      "Name: Unnamed: 4, dtype: int64\n"
     ]
    }
   ],
   "source": [
    "# Check value_counts\n",
    "print(df['Unnamed: 3'].value_counts())\n",
    "print(df['Unnamed: 4'].value_counts())"
   ]
  },
  {
   "cell_type": "markdown",
   "id": "e9f64818",
   "metadata": {},
   "source": [
    "Both columns are combined with v2 column. Let's drop them."
   ]
  },
  {
   "cell_type": "code",
   "execution_count": 12,
   "id": "ec6b4f70",
   "metadata": {},
   "outputs": [],
   "source": [
    "df.drop(['Unnamed: 3', 'Unnamed: 4'], axis=1, inplace=True)"
   ]
  },
  {
   "cell_type": "code",
   "execution_count": 13,
   "id": "c6a66998",
   "metadata": {},
   "outputs": [
    {
     "data": {
      "text/plain": [
       "(5572, 2)"
      ]
     },
     "execution_count": 13,
     "metadata": {},
     "output_type": "execute_result"
    }
   ],
   "source": [
    "# View changed shape of dataframe\n",
    "df.shape"
   ]
  },
  {
   "cell_type": "markdown",
   "id": "ceb3456c",
   "metadata": {},
   "source": [
    "* ### Dropping duplicates"
   ]
  },
  {
   "cell_type": "code",
   "execution_count": 14,
   "id": "61c16c88",
   "metadata": {},
   "outputs": [
    {
     "data": {
      "text/plain": [
       "(5169, 2)"
      ]
     },
     "execution_count": 14,
     "metadata": {},
     "output_type": "execute_result"
    }
   ],
   "source": [
    "df.drop_duplicates(inplace=True)\n",
    "# View changed shape of dataframe\n",
    "df.shape"
   ]
  },
  {
   "cell_type": "markdown",
   "id": "8f632ebc",
   "metadata": {},
   "source": [
    "* ### Convert categorical 'v1' column into numerical"
   ]
  },
  {
   "cell_type": "code",
   "execution_count": 15,
   "id": "c688c2f7",
   "metadata": {},
   "outputs": [],
   "source": [
    "df['v1'] = df['v1'].replace({'ham':1,'spam':0})"
   ]
  },
  {
   "cell_type": "code",
   "execution_count": 16,
   "id": "29f5f4b9",
   "metadata": {},
   "outputs": [
    {
     "data": {
      "text/html": [
       "<div>\n",
       "<style scoped>\n",
       "    .dataframe tbody tr th:only-of-type {\n",
       "        vertical-align: middle;\n",
       "    }\n",
       "\n",
       "    .dataframe tbody tr th {\n",
       "        vertical-align: top;\n",
       "    }\n",
       "\n",
       "    .dataframe thead th {\n",
       "        text-align: right;\n",
       "    }\n",
       "</style>\n",
       "<table border=\"1\" class=\"dataframe\">\n",
       "  <thead>\n",
       "    <tr style=\"text-align: right;\">\n",
       "      <th></th>\n",
       "      <th>v1</th>\n",
       "      <th>v2</th>\n",
       "    </tr>\n",
       "  </thead>\n",
       "  <tbody>\n",
       "    <tr>\n",
       "      <th>0</th>\n",
       "      <td>1</td>\n",
       "      <td>Go until jurong point, crazy.. Available only ...</td>\n",
       "    </tr>\n",
       "    <tr>\n",
       "      <th>1</th>\n",
       "      <td>1</td>\n",
       "      <td>Ok lar... Joking wif u oni...nannannan</td>\n",
       "    </tr>\n",
       "    <tr>\n",
       "      <th>2</th>\n",
       "      <td>0</td>\n",
       "      <td>Free entry in 2 a wkly comp to win FA Cup fina...</td>\n",
       "    </tr>\n",
       "    <tr>\n",
       "      <th>3</th>\n",
       "      <td>1</td>\n",
       "      <td>U dun say so early hor... U c already then say...</td>\n",
       "    </tr>\n",
       "    <tr>\n",
       "      <th>4</th>\n",
       "      <td>1</td>\n",
       "      <td>Nah I don't think he goes to usf, he lives aro...</td>\n",
       "    </tr>\n",
       "  </tbody>\n",
       "</table>\n",
       "</div>"
      ],
      "text/plain": [
       "   v1                                                 v2\n",
       "0   1  Go until jurong point, crazy.. Available only ...\n",
       "1   1             Ok lar... Joking wif u oni...nannannan\n",
       "2   0  Free entry in 2 a wkly comp to win FA Cup fina...\n",
       "3   1  U dun say so early hor... U c already then say...\n",
       "4   1  Nah I don't think he goes to usf, he lives aro..."
      ]
     },
     "execution_count": 16,
     "metadata": {},
     "output_type": "execute_result"
    }
   ],
   "source": [
    "# View changes in the dataframe\n",
    "df.head()"
   ]
  },
  {
   "cell_type": "markdown",
   "id": "39d95221",
   "metadata": {},
   "source": [
    "* ### Rename columns 'v1' and 'v2'"
   ]
  },
  {
   "cell_type": "code",
   "execution_count": 17,
   "id": "065a2540",
   "metadata": {},
   "outputs": [
    {
     "data": {
      "text/html": [
       "<div>\n",
       "<style scoped>\n",
       "    .dataframe tbody tr th:only-of-type {\n",
       "        vertical-align: middle;\n",
       "    }\n",
       "\n",
       "    .dataframe tbody tr th {\n",
       "        vertical-align: top;\n",
       "    }\n",
       "\n",
       "    .dataframe thead th {\n",
       "        text-align: right;\n",
       "    }\n",
       "</style>\n",
       "<table border=\"1\" class=\"dataframe\">\n",
       "  <thead>\n",
       "    <tr style=\"text-align: right;\">\n",
       "      <th></th>\n",
       "      <th>labels</th>\n",
       "      <th>msg_text</th>\n",
       "    </tr>\n",
       "  </thead>\n",
       "  <tbody>\n",
       "    <tr>\n",
       "      <th>0</th>\n",
       "      <td>1</td>\n",
       "      <td>Go until jurong point, crazy.. Available only ...</td>\n",
       "    </tr>\n",
       "    <tr>\n",
       "      <th>1</th>\n",
       "      <td>1</td>\n",
       "      <td>Ok lar... Joking wif u oni...nannannan</td>\n",
       "    </tr>\n",
       "    <tr>\n",
       "      <th>2</th>\n",
       "      <td>0</td>\n",
       "      <td>Free entry in 2 a wkly comp to win FA Cup fina...</td>\n",
       "    </tr>\n",
       "  </tbody>\n",
       "</table>\n",
       "</div>"
      ],
      "text/plain": [
       "   labels                                           msg_text\n",
       "0       1  Go until jurong point, crazy.. Available only ...\n",
       "1       1             Ok lar... Joking wif u oni...nannannan\n",
       "2       0  Free entry in 2 a wkly comp to win FA Cup fina..."
      ]
     },
     "execution_count": 17,
     "metadata": {},
     "output_type": "execute_result"
    }
   ],
   "source": [
    "df.rename(columns={\"v1\": \"labels\", \"v2\": \"msg_text\"}, inplace=True)\n",
    "# View changes\n",
    "df.head(3)"
   ]
  },
  {
   "cell_type": "markdown",
   "id": "5eede15b",
   "metadata": {},
   "source": [
    "* ### Preprocess text in 'v2' column "
   ]
  },
  {
   "cell_type": "code",
   "execution_count": 18,
   "id": "6a9880f7",
   "metadata": {},
   "outputs": [
    {
     "data": {
      "text/plain": [
       "['go until jurong point crazy available only in bugis n great world la e buffet cine there got amore watnannannan',\n",
       " 'ok lar joking wif u oninannannan',\n",
       " 'free entry in  a wkly comp to win fa cup final tkts st may  text fa to  to receive entry questionstd txt ratetcs apply oversnannannan',\n",
       " 'u dun say so early hor u c already then saynannannan',\n",
       " 'nah i dont think he goes to usf he lives around here thoughnannannan']"
      ]
     },
     "execution_count": 18,
     "metadata": {},
     "output_type": "execute_result"
    }
   ],
   "source": [
    "import re\n",
    "processed_msg_text = []\n",
    "for i in df['msg_text']:\n",
    "    # Step 1 : Convert to lower case\n",
    "    s = i.lower()\n",
    "    # Step 2 : Remove special characters\n",
    "    s = re.sub('[^a-z ]','',s)\n",
    "    processed_msg_text.append(s)\n",
    "    \n",
    "# View first 5 processed texts\n",
    "processed_msg_text[0:5]"
   ]
  },
  {
   "cell_type": "code",
   "execution_count": 19,
   "id": "fb37bbe1",
   "metadata": {},
   "outputs": [
    {
     "data": {
      "text/html": [
       "<div>\n",
       "<style scoped>\n",
       "    .dataframe tbody tr th:only-of-type {\n",
       "        vertical-align: middle;\n",
       "    }\n",
       "\n",
       "    .dataframe tbody tr th {\n",
       "        vertical-align: top;\n",
       "    }\n",
       "\n",
       "    .dataframe thead th {\n",
       "        text-align: right;\n",
       "    }\n",
       "</style>\n",
       "<table border=\"1\" class=\"dataframe\">\n",
       "  <thead>\n",
       "    <tr style=\"text-align: right;\">\n",
       "      <th></th>\n",
       "      <th>labels</th>\n",
       "      <th>msg_text</th>\n",
       "      <th>processed_msg_text</th>\n",
       "    </tr>\n",
       "  </thead>\n",
       "  <tbody>\n",
       "    <tr>\n",
       "      <th>0</th>\n",
       "      <td>1</td>\n",
       "      <td>Go until jurong point, crazy.. Available only ...</td>\n",
       "      <td>go until jurong point crazy available only in ...</td>\n",
       "    </tr>\n",
       "    <tr>\n",
       "      <th>1</th>\n",
       "      <td>1</td>\n",
       "      <td>Ok lar... Joking wif u oni...nannannan</td>\n",
       "      <td>ok lar joking wif u oninannannan</td>\n",
       "    </tr>\n",
       "    <tr>\n",
       "      <th>2</th>\n",
       "      <td>0</td>\n",
       "      <td>Free entry in 2 a wkly comp to win FA Cup fina...</td>\n",
       "      <td>free entry in  a wkly comp to win fa cup final...</td>\n",
       "    </tr>\n",
       "  </tbody>\n",
       "</table>\n",
       "</div>"
      ],
      "text/plain": [
       "   labels                                           msg_text  \\\n",
       "0       1  Go until jurong point, crazy.. Available only ...   \n",
       "1       1             Ok lar... Joking wif u oni...nannannan   \n",
       "2       0  Free entry in 2 a wkly comp to win FA Cup fina...   \n",
       "\n",
       "                                  processed_msg_text  \n",
       "0  go until jurong point crazy available only in ...  \n",
       "1                   ok lar joking wif u oninannannan  \n",
       "2  free entry in  a wkly comp to win fa cup final...  "
      ]
     },
     "execution_count": 19,
     "metadata": {},
     "output_type": "execute_result"
    }
   ],
   "source": [
    "# Add new column for processed text\n",
    "df['processed_msg_text'] = processed_msg_text\n",
    "# View changes\n",
    "df.head(3)"
   ]
  },
  {
   "cell_type": "markdown",
   "id": "34dfe023",
   "metadata": {},
   "source": [
    "* ### Convert 'processed_msg_text' column into numerical dtype using TfidfVectorizer\n",
    "Define this as X variable."
   ]
  },
  {
   "cell_type": "code",
   "execution_count": 20,
   "id": "8caaf3ea",
   "metadata": {},
   "outputs": [],
   "source": [
    "from sklearn.feature_extraction.text import TfidfVectorizer\n",
    "tfidf = TfidfVectorizer()\n",
    "X = tfidf.fit_transform(df['processed_msg_text']).toarray()"
   ]
  },
  {
   "cell_type": "code",
   "execution_count": 21,
   "id": "3539b303",
   "metadata": {},
   "outputs": [
    {
     "data": {
      "text/plain": [
       "array([[0., 0., 0., ..., 0., 0., 0.],\n",
       "       [0., 0., 0., ..., 0., 0., 0.],\n",
       "       [0., 0., 0., ..., 0., 0., 0.],\n",
       "       ...,\n",
       "       [0., 0., 0., ..., 0., 0., 0.],\n",
       "       [0., 0., 0., ..., 0., 0., 0.],\n",
       "       [0., 0., 0., ..., 0., 0., 0.]])"
      ]
     },
     "execution_count": 21,
     "metadata": {},
     "output_type": "execute_result"
    }
   ],
   "source": [
    "# View changes\n",
    "X"
   ]
  },
  {
   "cell_type": "markdown",
   "id": "31355e1c",
   "metadata": {},
   "source": [
    "* ### Define Y variable"
   ]
  },
  {
   "cell_type": "code",
   "execution_count": 22,
   "id": "c0f35417",
   "metadata": {},
   "outputs": [],
   "source": [
    "Y = df['labels']"
   ]
  },
  {
   "cell_type": "code",
   "execution_count": 23,
   "id": "73040935",
   "metadata": {},
   "outputs": [
    {
     "data": {
      "text/plain": [
       "1    4516\n",
       "0     653\n",
       "Name: labels, dtype: int64"
      ]
     },
     "execution_count": 23,
     "metadata": {},
     "output_type": "execute_result"
    }
   ],
   "source": [
    "Y.value_counts()"
   ]
  },
  {
   "cell_type": "code",
   "execution_count": 24,
   "id": "df292807",
   "metadata": {},
   "outputs": [
    {
     "data": {
      "image/png": "[encoded data removed]",
      "text/plain": [
       "<Figure size 300x300 with 1 Axes>"
      ]
     },
     "metadata": {},
     "output_type": "display_data"
    }
   ],
   "source": [
    "plt.figure(figsize=(3,3))\n",
    "df['labels'].value_counts().plot(kind='pie', autopct = \"%1.1f%%\")\n",
    "plt.legend(['not spam','spam'], bbox_to_anchor = (1,1))\n",
    "plt.show()"
   ]
  },
  {
   "cell_type": "markdown",
   "id": "f9c8d714",
   "metadata": {},
   "source": [
    "This is an imbalanced dataset. Nearly 87% message texts are not spam. "
   ]
  },
  {
   "cell_type": "markdown",
   "id": "0fa34721",
   "metadata": {},
   "source": [
    "## Building model: Logistic Regression"
   ]
  },
  {
   "cell_type": "markdown",
   "id": "a3629bca",
   "metadata": {},
   "source": [
    "We have already defined X and Y variables. Let's split data and start training model in machine learning. "
   ]
  },
  {
   "cell_type": "code",
   "execution_count": 25,
   "id": "cb9d8f9c",
   "metadata": {},
   "outputs": [],
   "source": [
    "# Splitting data\n",
    "from sklearn.model_selection import train_test_split\n",
    "xtrain, xtest, ytrain, ytest = train_test_split(X,Y,test_size=0.25,random_state=21)"
   ]
  },
  {
   "cell_type": "code",
   "execution_count": 26,
   "id": "6825fc67",
   "metadata": {},
   "outputs": [
    {
     "data": {
      "text/plain": [
       "LogisticRegression()"
      ]
     },
     "execution_count": 26,
     "metadata": {},
     "output_type": "execute_result"
    }
   ],
   "source": [
    "# Initialize model\n",
    "from sklearn.linear_model import LogisticRegression\n",
    "log_model = LogisticRegression()\n",
    "# Fit training data\n",
    "log_model.fit(xtrain, ytrain)"
   ]
  },
  {
   "cell_type": "code",
   "execution_count": 27,
   "id": "63e96f9e",
   "metadata": {},
   "outputs": [],
   "source": [
    "# Prediction\n",
    "ypred = log_model.predict(xtest)"
   ]
  },
  {
   "cell_type": "code",
   "execution_count": 28,
   "id": "36fa2af7",
   "metadata": {},
   "outputs": [
    {
     "name": "stdout",
     "output_type": "stream",
     "text": [
      "Accuracy of the model:  94.51 %\n",
      "---------------------------------------------\n",
      "Confusion matrix: \n",
      " [[  87   70]\n",
      " [   1 1135]]\n",
      "---------------------------------------------\n",
      "Classification report: \n",
      "               precision    recall  f1-score   support\n",
      "\n",
      "           0       0.99      0.55      0.71       157\n",
      "           1       0.94      1.00      0.97      1136\n",
      "\n",
      "    accuracy                           0.95      1293\n",
      "   macro avg       0.97      0.78      0.84      1293\n",
      "weighted avg       0.95      0.95      0.94      1293\n",
      "\n"
     ]
    }
   ],
   "source": [
    "# Evaluate model using sklearn metrics\n",
    "from sklearn.metrics import accuracy_score, confusion_matrix, classification_report\n",
    "print('Accuracy of the model: ', round(accuracy_score(ytest, ypred)*100, 2), '%')\n",
    "print('---------------------------------------------')\n",
    "print('Confusion matrix: \\n', confusion_matrix(ytest, ypred))\n",
    "print('---------------------------------------------')\n",
    "print('Classification report: \\n', classification_report(ytest, ypred))"
   ]
  },
  {
   "cell_type": "markdown",
   "id": "66787683",
   "metadata": {},
   "source": [
    "## Creating an Email spam detector "
   ]
  },
  {
   "cell_type": "code",
   "execution_count": 29,
   "id": "a9aea5e0",
   "metadata": {},
   "outputs": [
    {
     "name": "stdout",
     "output_type": "stream",
     "text": [
      "Enter message text: \n",
      "'WINNER!! As a valued network customer you have been selected to receivea å£900 prize reward! To claim call 09061701461. Claim code KL341. Valid 12 hours only.nannannan'\n",
      "                                                           \n",
      "Prediction: 81.19 percent spam\n"
     ]
    }
   ],
   "source": [
    "text = input('Enter message text: \\n')\n",
    "print('                                                           ')\n",
    "# Convert text to lower case\n",
    "text = text.lower()\n",
    "\n",
    "# Remove special characters\n",
    "text = re.sub('[^a-z ]','',text)\n",
    "\n",
    "# Tfidf transform\n",
    "x = tfidf.transform([text]).toarray()\n",
    "\n",
    "# Prediction\n",
    "ypred = log_model.predict(x)\n",
    "\n",
    "# Find probability\n",
    "ypred_prob = log_model.predict_proba(x)\n",
    "\n",
    "# Classification\n",
    "if ypred == 1:\n",
    "    print(f'Prediction: {ypred_prob.flatten()[1]*100:.2f} percent not spam')\n",
    "else:\n",
    "    print(f'Prediction: {ypred_prob.flatten()[0]*100:.2f} percent spam')"
   ]
  },
  {
   "cell_type": "markdown",
   "id": "450b1f7d",
   "metadata": {},
   "source": [
    "### This model has 94% accuracy."
   ]
  }
 ],
 "metadata": {
  "kernelspec": {
   "display_name": "Python 3 (ipykernel)",
   "language": "python",
   "name": "python3"
  },
  "language_info": {
   "codemirror_mode": {
    "name": "ipython",
    "version": 3
   },
   "file_extension": ".py",
   "mimetype": "text/x-python",
   "name": "python",
   "nbconvert_exporter": "python",
   "pygments_lexer": "ipython3",
   "version": "3.9.13"
  }
 },
 "nbformat": 4,
 "nbformat_minor": 5
}
